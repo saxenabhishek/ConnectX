{
  "cells": [
    {
      "cell_type": "markdown",
      "metadata": {
        "id": "view-in-github",
        "colab_type": "text"
      },
      "source": [
        "<a href=\"https://colab.research.google.com/github/saxenabhishek/ConnectX/blob/main/ConnectX_Getting_Started.ipynb\" target=\"_parent\"><img src=\"https://colab.research.google.com/assets/colab-badge.svg\" alt=\"Open In Colab\"/></a>"
      ]
    },
    {
      "source": [
        "# IMPORTANT: SOME KAGGLE DATA SOURCES ARE PRIVATE\n",
        "# RUN THIS CELL IN ORDER TO IMPORT YOUR KAGGLE DATA SOURCES.\n",
        "import kagglehub\n",
        "kagglehub.login()\n"
      ],
      "metadata": {
        "id": "dFSBa08qy8JE"
      },
      "cell_type": "code",
      "outputs": [],
      "execution_count": null
    },
    {
      "source": [
        "# IMPORTANT: RUN THIS CELL IN ORDER TO IMPORT YOUR KAGGLE DATA SOURCES,\n",
        "# THEN FEEL FREE TO DELETE THIS CELL.\n",
        "# NOTE: THIS NOTEBOOK ENVIRONMENT DIFFERS FROM KAGGLE'S PYTHON\n",
        "# ENVIRONMENT SO THERE MAY BE MISSING LIBRARIES USED BY YOUR\n",
        "# NOTEBOOK.\n",
        "\n",
        "connectx_path = kagglehub.competition_download('connectx')\n",
        "\n",
        "print('Data source import complete.')\n"
      ],
      "metadata": {
        "id": "sS4FEAgDy8JI"
      },
      "cell_type": "code",
      "outputs": [],
      "execution_count": null
    },
    {
      "metadata": {
        "id": "mIUis8D3y8JJ"
      },
      "cell_type": "markdown",
      "source": [
        "# Install kaggle-environments"
      ]
    },
    {
      "metadata": {
        "_uuid": "8f2839f25d086af736a60e9eeb907d3b93b6e0e5",
        "_cell_guid": "b1076dfc-b9ad-4769-8c92-a6c4dae69d19",
        "trusted": true,
        "id": "dvGgI4Jmy8JK"
      },
      "cell_type": "code",
      "source": [
        "# 1. Enable Internet in the Kernel (Settings side pane)\n",
        "\n",
        "# 2. Curl cache may need purged if v0.1.6 cannot be found (uncomment if needed).\n",
        "# !curl -X PURGE https://pypi.org/simple/kaggle-environments\n",
        "\n",
        "# ConnectX environment was defined in v0.1.6\n",
        "!pip install 'kaggle-environments>=0.1.6'"
      ],
      "execution_count": null,
      "outputs": []
    },
    {
      "metadata": {
        "id": "c-AyQ5ZAy8JL"
      },
      "cell_type": "markdown",
      "source": [
        "# Create ConnectX Environment"
      ]
    },
    {
      "metadata": {
        "_uuid": "d629ff2d2480ee46fbb7e2d37f6b5fab8052498a",
        "_cell_guid": "79c7e3d0-c299-4dcb-8224-4455121ee9b0",
        "trusted": true,
        "id": "f6q16bazy8JL"
      },
      "cell_type": "code",
      "source": [
        "from kaggle_environments import evaluate, make, utils\n",
        "\n",
        "env = make(\"connectx\", debug=True)\n",
        "env.render()"
      ],
      "execution_count": null,
      "outputs": []
    },
    {
      "metadata": {
        "id": "8mfMYT5ry8JM"
      },
      "cell_type": "markdown",
      "source": [
        "# Create an Agent\n",
        "\n",
        "To create the submission, an agent function should be fully encapsulated (no external dependencies).  \n",
        "\n",
        "When your agent is being evaluated against others, it will not have access to the Kaggle docker image.  Only the following can be imported: Python Standard Library Modules, gym, numpy, scipy, pytorch (1.3.1, cpu only), and more may be added later.\n",
        "\n"
      ]
    },
    {
      "metadata": {
        "trusted": true,
        "id": "X-KI-Xkfy8JM"
      },
      "cell_type": "code",
      "source": [
        "# This agent random chooses a non-empty column.\n",
        "def my_agent(observation, configuration):\n",
        "    from random import choice\n",
        "    return choice([c for c in range(configuration.columns) if observation.board[c] == 0])"
      ],
      "execution_count": null,
      "outputs": []
    },
    {
      "metadata": {
        "id": "eCB54JWcy8JM"
      },
      "cell_type": "markdown",
      "source": [
        "# Test your Agent"
      ]
    },
    {
      "metadata": {
        "trusted": true,
        "id": "JwgxmRUEy8JN"
      },
      "cell_type": "code",
      "source": [
        "env.reset()\n",
        "# Play as the first agent against default \"random\" agent.\n",
        "env.run([my_agent, \"random\"])\n",
        "env.render(mode=\"ipython\", width=500, height=450)"
      ],
      "execution_count": null,
      "outputs": []
    },
    {
      "metadata": {
        "id": "fFh8ubnSy8JN"
      },
      "cell_type": "markdown",
      "source": [
        "# Debug/Train your Agent"
      ]
    },
    {
      "metadata": {
        "trusted": true,
        "id": "JslR8dooy8JN"
      },
      "cell_type": "code",
      "source": [
        "# Play as first position against random agent.\n",
        "trainer = env.train([None, \"random\"])\n",
        "\n",
        "observation = trainer.reset()\n",
        "\n",
        "while not env.done:\n",
        "    my_action = my_agent(observation, env.configuration)\n",
        "    print(\"My Action\", my_action)\n",
        "    observation, reward, done, info = trainer.step(my_action)\n",
        "    # env.render(mode=\"ipython\", width=100, height=90, header=False, controls=False)\n",
        "env.render()"
      ],
      "execution_count": null,
      "outputs": []
    },
    {
      "metadata": {
        "id": "2HirO_Sby8JO"
      },
      "cell_type": "markdown",
      "source": [
        "# Evaluate your Agent"
      ]
    },
    {
      "metadata": {
        "trusted": true,
        "id": "V1ausmcxy8JO"
      },
      "cell_type": "code",
      "source": [
        "def mean_reward(rewards):\n",
        "    return sum(r[0] for r in rewards) / float(len(rewards))\n",
        "\n",
        "# Run multiple episodes to estimate its performance.\n",
        "print(\"My Agent vs Random Agent:\", mean_reward(evaluate(\"connectx\", [my_agent, \"random\"], num_episodes=10)))\n",
        "print(\"My Agent vs Negamax Agent:\", mean_reward(evaluate(\"connectx\", [my_agent, \"negamax\"], num_episodes=10)))"
      ],
      "execution_count": null,
      "outputs": []
    },
    {
      "metadata": {
        "id": "M5Mm9k3oy8JO"
      },
      "cell_type": "markdown",
      "source": [
        "# Play your Agent\n",
        "Click on any column to place a checker there (\"manually select action\")."
      ]
    },
    {
      "metadata": {
        "trusted": true,
        "id": "Wx2jzI6By8JO"
      },
      "cell_type": "code",
      "source": [
        "# \"None\" represents which agent you'll manually play as (first or second player).\n",
        "env.play([None, \"negamax\"], width=500, height=450)"
      ],
      "execution_count": null,
      "outputs": []
    },
    {
      "metadata": {
        "id": "m02_CYgiy8JO"
      },
      "cell_type": "markdown",
      "source": [
        "# Write Submission File\n",
        "\n"
      ]
    },
    {
      "metadata": {
        "trusted": true,
        "id": "dX0qCh7Vy8JP"
      },
      "cell_type": "code",
      "source": [
        "import inspect\n",
        "import os\n",
        "\n",
        "def write_agent_to_file(function, file):\n",
        "    with open(file, \"a\" if os.path.exists(file) else \"w\") as f:\n",
        "        f.write(inspect.getsource(function))\n",
        "        print(function, \"written to\", file)\n",
        "\n",
        "write_agent_to_file(my_agent, \"submission.py\")"
      ],
      "execution_count": null,
      "outputs": []
    },
    {
      "metadata": {
        "id": "OqNeSc_Cy8JP"
      },
      "cell_type": "markdown",
      "source": [
        "# Validate Submission\n",
        "Play your submission against itself.  This is the first episode the competition will run to weed out erroneous agents.\n",
        "\n",
        "Why validate? This roughly verifies that your submission is fully encapsulated and can be run remotely."
      ]
    },
    {
      "metadata": {
        "trusted": true,
        "id": "N6LTznb4y8JP"
      },
      "cell_type": "code",
      "source": [
        "# Note: Stdout replacement is a temporary workaround.\n",
        "import sys\n",
        "out = sys.stdout\n",
        "submission = utils.read_file(\"/kaggle/working/submission.py\")\n",
        "agent = utils.get_last_callable(submission)\n",
        "sys.stdout = out\n",
        "\n",
        "env = make(\"connectx\", debug=True)\n",
        "env.run([agent, agent])\n",
        "print(\"Success!\" if env.state[0].status == env.state[1].status == \"DONE\" else \"Failed...\")"
      ],
      "execution_count": null,
      "outputs": []
    },
    {
      "metadata": {
        "id": "0DDuqVi6y8JP"
      },
      "cell_type": "markdown",
      "source": [
        "# Submit to Competition\n",
        "\n",
        "1. Commit this kernel.\n",
        "2. View the commited version.\n",
        "3. Go to \"Data\" section and find submission.py file.\n",
        "4. Click \"Submit to Competition\"\n",
        "5. Go to [My Submissions](https://kaggle.com/c/connectx/submissions) to view your score and episodes being played."
      ]
    }
  ],
  "metadata": {
    "kernelspec": {
      "language": "python",
      "display_name": "Python 3",
      "name": "python3"
    },
    "language_info": {
      "pygments_lexer": "ipython3",
      "nbconvert_exporter": "python",
      "version": "3.6.4",
      "file_extension": ".py",
      "codemirror_mode": {
        "name": "ipython",
        "version": 3
      },
      "name": "python",
      "mimetype": "text/x-python"
    },
    "colab": {
      "name": "ConnectX Getting Started",
      "provenance": [],
      "include_colab_link": true
    }
  },
  "nbformat": 4,
  "nbformat_minor": 0
}